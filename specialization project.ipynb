{
 "cells": [
  {
   "cell_type": "markdown",
   "metadata": {},
   "source": [
    "\n",
    "\n",
    "# Project: Cyclist Data Analysis\n",
    "\n",
    "\n",
    "## Table of Contents\n",
    "<ul>\n",
    "<li><a href=\"#intro\">Introduction</a></li>\n",
    "<li><a href=\"#Ask\">Ask Phase</a></li>\n",
    "<li><a href=\"#Prepare\">Prepare Phase</a></li>\n",
    "<li><a href=\"#process\">Process Phase</a></li>\n",
    "<li><a href=\"#analyze\">Analyze Phase</a></li>\n",
    "<li><a href=\"#share\">Share</a></li>\n",
    "</ul>"
   ]
  },
  {
   "cell_type": "markdown",
   "metadata": {},
   "source": [
    "<a id='intro'></a>\n",
    "## Introduction\n",
    "\n",
    "A fictional bike-share company in Chicago. The director of marketing believes the company’s future success depends on maximizing the number of annual memberships. Therefore, your team wants to understand how casual riders and annual members use Cyclistic bikes differently. From these insights, your team will design a new marketing strategy to convert casual riders into annual members. But first, Cyclistic executives must approve your recommendations, so they must be backed up with compelling data insights and professional data visualizations.\n",
    "\n",
    "### Dataset Description \n",
    "\n",
    "<li>Trip_id : Trip Id</li>\n",
    "<li>Start_time : start time of the trip</li>\n",
    "<li>End_time : end time of the trip</li>\n",
    "<li>Bike_id: Bike Id</li>\n",
    "<li>trip_duration : trip length</li>\n",
    "<li>from_station_id : starting station id</li>\n",
    "<li>from_station_name : starting station name</li>\n",
    "<li>to_station_id : starting station id</li>\n",
    "<li>to_station_name : starting station name</li>\n",
    "<li>usertype : subscriber or customar</li>\n",
    "<li>gender : male or female</li>\n",
    "<li>birthyear : user birthyear </li>\n"
   ]
  },
  {
   "cell_type": "markdown",
   "metadata": {},
   "source": [
    "<a id='Ask'></a>\n",
    "## Ask Phase\n",
    "\n",
    "Following the steps of the data analysis process: **Ask**, Prepare, Process, Analyze, Share, and Act.\n",
    "\n",
    "In this intial phase of our project we want to ask our stakeholders questions to fully understand our projects also identify questions to answer from our analysis, so our first approch is to **clearly** identify the business task then to introduce our question to the analysis\n",
    "\n",
    "### Statement of the business task\n",
    "\n",
    "Design marketing strategies aimed at converting casual riders into annual members.\n",
    "\n",
    "### Question(s) for Analysis\n",
    "\n",
    "> **Q1** How do annual members and casual riders use Cyclistic bikes differently?\n",
    "\n",
    "> **Q2** Which age group has the most annual members ?\n",
    "\n",
    "> **Q3** What do annaual users gain from the membership that casual users do not?\n"
   ]
  },
  {
   "cell_type": "markdown",
   "metadata": {},
   "source": [
    "<a id='Prepare'></a>\n",
    "## Prepare Phase\n",
    "\n",
    "Following the steps of the data analysis process: Ask, **Prepare** , Process, Analyze, Share, and Act.\n",
    "\n",
    "In the next phase after defining our objective we will gather and assess our data in other terms we will perform **Data Wrangling**, in which we will perform two steps, first we will load the data to our workspace, then we will proceed to assing the data and making sure that the quality and structure of it is right.\n",
    "\n",
    "### Data Gathering\n",
    "\n",
    "Data was gathered from [divvy trip data](https://divvy-tripdata.s3.amazonaws.com/index.html) , we have choosen to work with the data of 2019 to drive our assumptions\n"
   ]
  },
  {
   "cell_type": "markdown",
   "metadata": {},
   "source": [
    "### Data assessment\n",
    "\n",
    "let's take a look at our data to validate it's consistency, quality and structure"
   ]
  },
  {
   "cell_type": "code",
   "execution_count": 1,
   "metadata": {},
   "outputs": [],
   "source": [
    "# importing important libararies \n",
    "import numpy as np\n",
    "import pandas as pd\n",
    "from zipfile import ZipFile\n",
    "import itertools"
   ]
  },
  {
   "cell_type": "code",
   "execution_count": 2,
   "metadata": {},
   "outputs": [],
   "source": [
    "# extracting data in jupyter workspace \n",
    "with ZipFile('specialization data.zip','r') as zip :\n",
    "    zip.extractall()"
   ]
  },
  {
   "cell_type": "code",
   "execution_count": 3,
   "metadata": {},
   "outputs": [],
   "source": [
    "#importing four quarters data\n",
    "data_Q1 = pd.read_csv('Divvy_Trips_2019_Q1.csv')\n",
    "data_Q2 = pd.read_csv('Divvy_Trips_2019_Q2.csv')\n",
    "data_Q3 = pd.read_csv('Divvy_Trips_2019_Q3.csv')\n",
    "data_Q4 = pd.read_csv('Divvy_Trips_2019_Q4.csv')"
   ]
  },
  {
   "cell_type": "markdown",
   "metadata": {},
   "source": [
    "we will assess every dataset on its own but we will keep the generalize column names and data types over the datasets \n",
    "\n",
    "we will start with the first quarter"
   ]
  },
  {
   "cell_type": "code",
   "execution_count": 4,
   "metadata": {},
   "outputs": [
    {
     "data": {
      "text/html": [
       "<div>\n",
       "<style scoped>\n",
       "    .dataframe tbody tr th:only-of-type {\n",
       "        vertical-align: middle;\n",
       "    }\n",
       "\n",
       "    .dataframe tbody tr th {\n",
       "        vertical-align: top;\n",
       "    }\n",
       "\n",
       "    .dataframe thead th {\n",
       "        text-align: right;\n",
       "    }\n",
       "</style>\n",
       "<table border=\"1\" class=\"dataframe\">\n",
       "  <thead>\n",
       "    <tr style=\"text-align: right;\">\n",
       "      <th></th>\n",
       "      <th>trip_id</th>\n",
       "      <th>start_time</th>\n",
       "      <th>end_time</th>\n",
       "      <th>bikeid</th>\n",
       "      <th>tripduration</th>\n",
       "      <th>from_station_id</th>\n",
       "      <th>from_station_name</th>\n",
       "      <th>to_station_id</th>\n",
       "      <th>to_station_name</th>\n",
       "      <th>usertype</th>\n",
       "      <th>gender</th>\n",
       "      <th>birthyear</th>\n",
       "    </tr>\n",
       "  </thead>\n",
       "  <tbody>\n",
       "    <tr>\n",
       "      <th>0</th>\n",
       "      <td>21742443</td>\n",
       "      <td>2019-01-01 00:04:37</td>\n",
       "      <td>2019-01-01 00:11:07</td>\n",
       "      <td>2167</td>\n",
       "      <td>390.0</td>\n",
       "      <td>199</td>\n",
       "      <td>Wabash Ave &amp; Grand Ave</td>\n",
       "      <td>84</td>\n",
       "      <td>Milwaukee Ave &amp; Grand Ave</td>\n",
       "      <td>Subscriber</td>\n",
       "      <td>Male</td>\n",
       "      <td>1989.0</td>\n",
       "    </tr>\n",
       "    <tr>\n",
       "      <th>1</th>\n",
       "      <td>21742444</td>\n",
       "      <td>2019-01-01 00:08:13</td>\n",
       "      <td>2019-01-01 00:15:34</td>\n",
       "      <td>4386</td>\n",
       "      <td>441.0</td>\n",
       "      <td>44</td>\n",
       "      <td>State St &amp; Randolph St</td>\n",
       "      <td>624</td>\n",
       "      <td>Dearborn St &amp; Van Buren St (*)</td>\n",
       "      <td>Subscriber</td>\n",
       "      <td>Female</td>\n",
       "      <td>1990.0</td>\n",
       "    </tr>\n",
       "    <tr>\n",
       "      <th>2</th>\n",
       "      <td>21742445</td>\n",
       "      <td>2019-01-01 00:13:23</td>\n",
       "      <td>2019-01-01 00:27:12</td>\n",
       "      <td>1524</td>\n",
       "      <td>829.0</td>\n",
       "      <td>15</td>\n",
       "      <td>Racine Ave &amp; 18th St</td>\n",
       "      <td>644</td>\n",
       "      <td>Western Ave &amp; Fillmore St (*)</td>\n",
       "      <td>Subscriber</td>\n",
       "      <td>Female</td>\n",
       "      <td>1994.0</td>\n",
       "    </tr>\n",
       "    <tr>\n",
       "      <th>3</th>\n",
       "      <td>21742446</td>\n",
       "      <td>2019-01-01 00:13:45</td>\n",
       "      <td>2019-01-01 00:43:28</td>\n",
       "      <td>252</td>\n",
       "      <td>1,783.0</td>\n",
       "      <td>123</td>\n",
       "      <td>California Ave &amp; Milwaukee Ave</td>\n",
       "      <td>176</td>\n",
       "      <td>Clark St &amp; Elm St</td>\n",
       "      <td>Subscriber</td>\n",
       "      <td>Male</td>\n",
       "      <td>1993.0</td>\n",
       "    </tr>\n",
       "    <tr>\n",
       "      <th>4</th>\n",
       "      <td>21742447</td>\n",
       "      <td>2019-01-01 00:14:52</td>\n",
       "      <td>2019-01-01 00:20:56</td>\n",
       "      <td>1170</td>\n",
       "      <td>364.0</td>\n",
       "      <td>173</td>\n",
       "      <td>Mies van der Rohe Way &amp; Chicago Ave</td>\n",
       "      <td>35</td>\n",
       "      <td>Streeter Dr &amp; Grand Ave</td>\n",
       "      <td>Subscriber</td>\n",
       "      <td>Male</td>\n",
       "      <td>1994.0</td>\n",
       "    </tr>\n",
       "  </tbody>\n",
       "</table>\n",
       "</div>"
      ],
      "text/plain": [
       "    trip_id           start_time             end_time  bikeid tripduration  \\\n",
       "0  21742443  2019-01-01 00:04:37  2019-01-01 00:11:07    2167        390.0   \n",
       "1  21742444  2019-01-01 00:08:13  2019-01-01 00:15:34    4386        441.0   \n",
       "2  21742445  2019-01-01 00:13:23  2019-01-01 00:27:12    1524        829.0   \n",
       "3  21742446  2019-01-01 00:13:45  2019-01-01 00:43:28     252      1,783.0   \n",
       "4  21742447  2019-01-01 00:14:52  2019-01-01 00:20:56    1170        364.0   \n",
       "\n",
       "   from_station_id                    from_station_name  to_station_id  \\\n",
       "0              199               Wabash Ave & Grand Ave             84   \n",
       "1               44               State St & Randolph St            624   \n",
       "2               15                 Racine Ave & 18th St            644   \n",
       "3              123       California Ave & Milwaukee Ave            176   \n",
       "4              173  Mies van der Rohe Way & Chicago Ave             35   \n",
       "\n",
       "                  to_station_name    usertype  gender  birthyear  \n",
       "0       Milwaukee Ave & Grand Ave  Subscriber    Male     1989.0  \n",
       "1  Dearborn St & Van Buren St (*)  Subscriber  Female     1990.0  \n",
       "2   Western Ave & Fillmore St (*)  Subscriber  Female     1994.0  \n",
       "3               Clark St & Elm St  Subscriber    Male     1993.0  \n",
       "4         Streeter Dr & Grand Ave  Subscriber    Male     1994.0  "
      ]
     },
     "execution_count": 4,
     "metadata": {},
     "output_type": "execute_result"
    }
   ],
   "source": [
    "data_Q1.head()"
   ]
  },
  {
   "cell_type": "markdown",
   "metadata": {},
   "source": [
    "for starters bikeid, tripduration and usertype need to follow the standard naming conventions\n",
    "\n",
    "trip_duration need to be in minutes not seconds as it will be easier to comprehend \n",
    "\n",
    "birthyear need to be converted into age so we can devide the users into age groups and discover insights withen age group"
   ]
  },
  {
   "cell_type": "code",
   "execution_count": 5,
   "metadata": {},
   "outputs": [
    {
     "name": "stdout",
     "output_type": "stream",
     "text": [
      "<class 'pandas.core.frame.DataFrame'>\n",
      "RangeIndex: 365069 entries, 0 to 365068\n",
      "Data columns (total 12 columns):\n",
      " #   Column             Non-Null Count   Dtype  \n",
      "---  ------             --------------   -----  \n",
      " 0   trip_id            365069 non-null  int64  \n",
      " 1   start_time         365069 non-null  object \n",
      " 2   end_time           365069 non-null  object \n",
      " 3   bikeid             365069 non-null  int64  \n",
      " 4   tripduration       365069 non-null  object \n",
      " 5   from_station_id    365069 non-null  int64  \n",
      " 6   from_station_name  365069 non-null  object \n",
      " 7   to_station_id      365069 non-null  int64  \n",
      " 8   to_station_name    365069 non-null  object \n",
      " 9   usertype           365069 non-null  object \n",
      " 10  gender             345358 non-null  object \n",
      " 11  birthyear          347046 non-null  float64\n",
      "dtypes: float64(1), int64(4), object(7)\n",
      "memory usage: 33.4+ MB\n"
     ]
    }
   ],
   "source": [
    "data_Q1.info()"
   ]
  },
  {
   "cell_type": "markdown",
   "metadata": {},
   "source": [
    "we have missing data in both the gender and the birthyear, trip_duration,start_time and end_time types need to be adjusted "
   ]
  },
  {
   "cell_type": "code",
   "execution_count": 6,
   "metadata": {},
   "outputs": [],
   "source": [
    "assert len(data_Q1.gender.unique()) == 3\n",
    "assert len(data_Q1.usertype.unique()) == 2"
   ]
  },
  {
   "cell_type": "markdown",
   "metadata": {},
   "source": [
    "we made sure there is no inconsistent data entries because in gender there is male,female and NaN hence '==3' but in usertype there is subscriber and customer hence '==2'"
   ]
  },
  {
   "cell_type": "code",
   "execution_count": 7,
   "metadata": {},
   "outputs": [
    {
     "data": {
      "text/plain": [
       "0"
      ]
     },
     "execution_count": 7,
     "metadata": {},
     "output_type": "execute_result"
    }
   ],
   "source": [
    "data_Q1.duplicated().sum()"
   ]
  },
  {
   "cell_type": "markdown",
   "metadata": {},
   "source": [
    "we have no duplicates in this dataset"
   ]
  },
  {
   "cell_type": "markdown",
   "metadata": {},
   "source": [
    "Doing the same steps for the remaining quadrants "
   ]
  },
  {
   "cell_type": "code",
   "execution_count": 8,
   "metadata": {},
   "outputs": [
    {
     "data": {
      "text/html": [
       "<div>\n",
       "<style scoped>\n",
       "    .dataframe tbody tr th:only-of-type {\n",
       "        vertical-align: middle;\n",
       "    }\n",
       "\n",
       "    .dataframe tbody tr th {\n",
       "        vertical-align: top;\n",
       "    }\n",
       "\n",
       "    .dataframe thead th {\n",
       "        text-align: right;\n",
       "    }\n",
       "</style>\n",
       "<table border=\"1\" class=\"dataframe\">\n",
       "  <thead>\n",
       "    <tr style=\"text-align: right;\">\n",
       "      <th></th>\n",
       "      <th>01 - Rental Details Rental ID</th>\n",
       "      <th>01 - Rental Details Local Start Time</th>\n",
       "      <th>01 - Rental Details Local End Time</th>\n",
       "      <th>01 - Rental Details Bike ID</th>\n",
       "      <th>01 - Rental Details Duration In Seconds Uncapped</th>\n",
       "      <th>03 - Rental Start Station ID</th>\n",
       "      <th>03 - Rental Start Station Name</th>\n",
       "      <th>02 - Rental End Station ID</th>\n",
       "      <th>02 - Rental End Station Name</th>\n",
       "      <th>User Type</th>\n",
       "      <th>Member Gender</th>\n",
       "      <th>05 - Member Details Member Birthday Year</th>\n",
       "    </tr>\n",
       "  </thead>\n",
       "  <tbody>\n",
       "    <tr>\n",
       "      <th>0</th>\n",
       "      <td>22178529</td>\n",
       "      <td>2019-04-01 00:02:22</td>\n",
       "      <td>2019-04-01 00:09:48</td>\n",
       "      <td>6251</td>\n",
       "      <td>446.0</td>\n",
       "      <td>81</td>\n",
       "      <td>Daley Center Plaza</td>\n",
       "      <td>56</td>\n",
       "      <td>Desplaines St &amp; Kinzie St</td>\n",
       "      <td>Subscriber</td>\n",
       "      <td>Male</td>\n",
       "      <td>1975.0</td>\n",
       "    </tr>\n",
       "    <tr>\n",
       "      <th>1</th>\n",
       "      <td>22178530</td>\n",
       "      <td>2019-04-01 00:03:02</td>\n",
       "      <td>2019-04-01 00:20:30</td>\n",
       "      <td>6226</td>\n",
       "      <td>1,048.0</td>\n",
       "      <td>317</td>\n",
       "      <td>Wood St &amp; Taylor St</td>\n",
       "      <td>59</td>\n",
       "      <td>Wabash Ave &amp; Roosevelt Rd</td>\n",
       "      <td>Subscriber</td>\n",
       "      <td>Female</td>\n",
       "      <td>1984.0</td>\n",
       "    </tr>\n",
       "    <tr>\n",
       "      <th>2</th>\n",
       "      <td>22178531</td>\n",
       "      <td>2019-04-01 00:11:07</td>\n",
       "      <td>2019-04-01 00:15:19</td>\n",
       "      <td>5649</td>\n",
       "      <td>252.0</td>\n",
       "      <td>283</td>\n",
       "      <td>LaSalle St &amp; Jackson Blvd</td>\n",
       "      <td>174</td>\n",
       "      <td>Canal St &amp; Madison St</td>\n",
       "      <td>Subscriber</td>\n",
       "      <td>Male</td>\n",
       "      <td>1990.0</td>\n",
       "    </tr>\n",
       "    <tr>\n",
       "      <th>3</th>\n",
       "      <td>22178532</td>\n",
       "      <td>2019-04-01 00:13:01</td>\n",
       "      <td>2019-04-01 00:18:58</td>\n",
       "      <td>4151</td>\n",
       "      <td>357.0</td>\n",
       "      <td>26</td>\n",
       "      <td>McClurg Ct &amp; Illinois St</td>\n",
       "      <td>133</td>\n",
       "      <td>Kingsbury St &amp; Kinzie St</td>\n",
       "      <td>Subscriber</td>\n",
       "      <td>Male</td>\n",
       "      <td>1993.0</td>\n",
       "    </tr>\n",
       "    <tr>\n",
       "      <th>4</th>\n",
       "      <td>22178533</td>\n",
       "      <td>2019-04-01 00:19:26</td>\n",
       "      <td>2019-04-01 00:36:13</td>\n",
       "      <td>3270</td>\n",
       "      <td>1,007.0</td>\n",
       "      <td>202</td>\n",
       "      <td>Halsted St &amp; 18th St</td>\n",
       "      <td>129</td>\n",
       "      <td>Blue Island Ave &amp; 18th St</td>\n",
       "      <td>Subscriber</td>\n",
       "      <td>Male</td>\n",
       "      <td>1992.0</td>\n",
       "    </tr>\n",
       "  </tbody>\n",
       "</table>\n",
       "</div>"
      ],
      "text/plain": [
       "   01 - Rental Details Rental ID 01 - Rental Details Local Start Time  \\\n",
       "0                       22178529                  2019-04-01 00:02:22   \n",
       "1                       22178530                  2019-04-01 00:03:02   \n",
       "2                       22178531                  2019-04-01 00:11:07   \n",
       "3                       22178532                  2019-04-01 00:13:01   \n",
       "4                       22178533                  2019-04-01 00:19:26   \n",
       "\n",
       "  01 - Rental Details Local End Time  01 - Rental Details Bike ID  \\\n",
       "0                2019-04-01 00:09:48                         6251   \n",
       "1                2019-04-01 00:20:30                         6226   \n",
       "2                2019-04-01 00:15:19                         5649   \n",
       "3                2019-04-01 00:18:58                         4151   \n",
       "4                2019-04-01 00:36:13                         3270   \n",
       "\n",
       "  01 - Rental Details Duration In Seconds Uncapped  \\\n",
       "0                                            446.0   \n",
       "1                                          1,048.0   \n",
       "2                                            252.0   \n",
       "3                                            357.0   \n",
       "4                                          1,007.0   \n",
       "\n",
       "   03 - Rental Start Station ID 03 - Rental Start Station Name  \\\n",
       "0                            81             Daley Center Plaza   \n",
       "1                           317            Wood St & Taylor St   \n",
       "2                           283      LaSalle St & Jackson Blvd   \n",
       "3                            26       McClurg Ct & Illinois St   \n",
       "4                           202           Halsted St & 18th St   \n",
       "\n",
       "   02 - Rental End Station ID 02 - Rental End Station Name   User Type  \\\n",
       "0                          56    Desplaines St & Kinzie St  Subscriber   \n",
       "1                          59    Wabash Ave & Roosevelt Rd  Subscriber   \n",
       "2                         174        Canal St & Madison St  Subscriber   \n",
       "3                         133     Kingsbury St & Kinzie St  Subscriber   \n",
       "4                         129    Blue Island Ave & 18th St  Subscriber   \n",
       "\n",
       "  Member Gender  05 - Member Details Member Birthday Year  \n",
       "0          Male                                    1975.0  \n",
       "1        Female                                    1984.0  \n",
       "2          Male                                    1990.0  \n",
       "3          Male                                    1993.0  \n",
       "4          Male                                    1992.0  "
      ]
     },
     "execution_count": 8,
     "metadata": {},
     "output_type": "execute_result"
    }
   ],
   "source": [
    "data_Q2.head()"
   ]
  },
  {
   "cell_type": "markdown",
   "metadata": {},
   "source": [
    "All columns names have to be changed to follow the standard naming convention "
   ]
  },
  {
   "cell_type": "code",
   "execution_count": 9,
   "metadata": {},
   "outputs": [
    {
     "name": "stdout",
     "output_type": "stream",
     "text": [
      "<class 'pandas.core.frame.DataFrame'>\n",
      "RangeIndex: 1108163 entries, 0 to 1108162\n",
      "Data columns (total 12 columns):\n",
      " #   Column                                            Non-Null Count    Dtype  \n",
      "---  ------                                            --------------    -----  \n",
      " 0   01 - Rental Details Rental ID                     1108163 non-null  int64  \n",
      " 1   01 - Rental Details Local Start Time              1108163 non-null  object \n",
      " 2   01 - Rental Details Local End Time                1108163 non-null  object \n",
      " 3   01 - Rental Details Bike ID                       1108163 non-null  int64  \n",
      " 4   01 - Rental Details Duration In Seconds Uncapped  1108163 non-null  object \n",
      " 5   03 - Rental Start Station ID                      1108163 non-null  int64  \n",
      " 6   03 - Rental Start Station Name                    1108163 non-null  object \n",
      " 7   02 - Rental End Station ID                        1108163 non-null  int64  \n",
      " 8   02 - Rental End Station Name                      1108163 non-null  object \n",
      " 9   User Type                                         1108163 non-null  object \n",
      " 10  Member Gender                                     922609 non-null   object \n",
      " 11  05 - Member Details Member Birthday Year          927210 non-null   float64\n",
      "dtypes: float64(1), int64(4), object(7)\n",
      "memory usage: 101.5+ MB\n"
     ]
    }
   ],
   "source": [
    "data_Q2.info()"
   ]
  },
  {
   "cell_type": "markdown",
   "metadata": {},
   "source": [
    "missing data in gender and birth year also trip_duration, start and end time datatypes need to be fixed\n"
   ]
  },
  {
   "cell_type": "code",
   "execution_count": 10,
   "metadata": {},
   "outputs": [],
   "source": [
    "assert len(data_Q2['Member Gender'].unique()) == 3\n",
    "assert len(data_Q2['User Type'].unique()) == 2"
   ]
  },
  {
   "cell_type": "markdown",
   "metadata": {},
   "source": [
    "we made sure there is no inconsistent data entries because in gender there is male,female and NaN hence '==3' but in usertype there is subscriber and customer hence '==2'"
   ]
  },
  {
   "cell_type": "code",
   "execution_count": 11,
   "metadata": {},
   "outputs": [
    {
     "data": {
      "text/plain": [
       "0"
      ]
     },
     "execution_count": 11,
     "metadata": {},
     "output_type": "execute_result"
    }
   ],
   "source": [
    "data_Q2.duplicated().sum()"
   ]
  },
  {
   "cell_type": "markdown",
   "metadata": {},
   "source": [
    "zero duplicates\n"
   ]
  },
  {
   "cell_type": "code",
   "execution_count": 12,
   "metadata": {},
   "outputs": [
    {
     "data": {
      "text/html": [
       "<div>\n",
       "<style scoped>\n",
       "    .dataframe tbody tr th:only-of-type {\n",
       "        vertical-align: middle;\n",
       "    }\n",
       "\n",
       "    .dataframe tbody tr th {\n",
       "        vertical-align: top;\n",
       "    }\n",
       "\n",
       "    .dataframe thead th {\n",
       "        text-align: right;\n",
       "    }\n",
       "</style>\n",
       "<table border=\"1\" class=\"dataframe\">\n",
       "  <thead>\n",
       "    <tr style=\"text-align: right;\">\n",
       "      <th></th>\n",
       "      <th>trip_id</th>\n",
       "      <th>start_time</th>\n",
       "      <th>end_time</th>\n",
       "      <th>bikeid</th>\n",
       "      <th>tripduration</th>\n",
       "      <th>from_station_id</th>\n",
       "      <th>from_station_name</th>\n",
       "      <th>to_station_id</th>\n",
       "      <th>to_station_name</th>\n",
       "      <th>usertype</th>\n",
       "      <th>gender</th>\n",
       "      <th>birthyear</th>\n",
       "    </tr>\n",
       "  </thead>\n",
       "  <tbody>\n",
       "    <tr>\n",
       "      <th>0</th>\n",
       "      <td>23479388</td>\n",
       "      <td>2019-07-01 00:00:27</td>\n",
       "      <td>2019-07-01 00:20:41</td>\n",
       "      <td>3591</td>\n",
       "      <td>1,214.0</td>\n",
       "      <td>117</td>\n",
       "      <td>Wilton Ave &amp; Belmont Ave</td>\n",
       "      <td>497</td>\n",
       "      <td>Kimball Ave &amp; Belmont Ave</td>\n",
       "      <td>Subscriber</td>\n",
       "      <td>Male</td>\n",
       "      <td>1992.0</td>\n",
       "    </tr>\n",
       "    <tr>\n",
       "      <th>1</th>\n",
       "      <td>23479389</td>\n",
       "      <td>2019-07-01 00:01:16</td>\n",
       "      <td>2019-07-01 00:18:44</td>\n",
       "      <td>5353</td>\n",
       "      <td>1,048.0</td>\n",
       "      <td>381</td>\n",
       "      <td>Western Ave &amp; Monroe St</td>\n",
       "      <td>203</td>\n",
       "      <td>Western Ave &amp; 21st St</td>\n",
       "      <td>Customer</td>\n",
       "      <td>NaN</td>\n",
       "      <td>NaN</td>\n",
       "    </tr>\n",
       "    <tr>\n",
       "      <th>2</th>\n",
       "      <td>23479390</td>\n",
       "      <td>2019-07-01 00:01:48</td>\n",
       "      <td>2019-07-01 00:27:42</td>\n",
       "      <td>6180</td>\n",
       "      <td>1,554.0</td>\n",
       "      <td>313</td>\n",
       "      <td>Lakeview Ave &amp; Fullerton Pkwy</td>\n",
       "      <td>144</td>\n",
       "      <td>Larrabee St &amp; Webster Ave</td>\n",
       "      <td>Customer</td>\n",
       "      <td>NaN</td>\n",
       "      <td>NaN</td>\n",
       "    </tr>\n",
       "    <tr>\n",
       "      <th>3</th>\n",
       "      <td>23479391</td>\n",
       "      <td>2019-07-01 00:02:07</td>\n",
       "      <td>2019-07-01 00:27:10</td>\n",
       "      <td>5540</td>\n",
       "      <td>1,503.0</td>\n",
       "      <td>313</td>\n",
       "      <td>Lakeview Ave &amp; Fullerton Pkwy</td>\n",
       "      <td>144</td>\n",
       "      <td>Larrabee St &amp; Webster Ave</td>\n",
       "      <td>Customer</td>\n",
       "      <td>NaN</td>\n",
       "      <td>NaN</td>\n",
       "    </tr>\n",
       "    <tr>\n",
       "      <th>4</th>\n",
       "      <td>23479392</td>\n",
       "      <td>2019-07-01 00:02:13</td>\n",
       "      <td>2019-07-01 00:22:26</td>\n",
       "      <td>6014</td>\n",
       "      <td>1,213.0</td>\n",
       "      <td>168</td>\n",
       "      <td>Michigan Ave &amp; 14th St</td>\n",
       "      <td>62</td>\n",
       "      <td>McCormick Place</td>\n",
       "      <td>Customer</td>\n",
       "      <td>NaN</td>\n",
       "      <td>NaN</td>\n",
       "    </tr>\n",
       "  </tbody>\n",
       "</table>\n",
       "</div>"
      ],
      "text/plain": [
       "    trip_id           start_time             end_time  bikeid tripduration  \\\n",
       "0  23479388  2019-07-01 00:00:27  2019-07-01 00:20:41    3591      1,214.0   \n",
       "1  23479389  2019-07-01 00:01:16  2019-07-01 00:18:44    5353      1,048.0   \n",
       "2  23479390  2019-07-01 00:01:48  2019-07-01 00:27:42    6180      1,554.0   \n",
       "3  23479391  2019-07-01 00:02:07  2019-07-01 00:27:10    5540      1,503.0   \n",
       "4  23479392  2019-07-01 00:02:13  2019-07-01 00:22:26    6014      1,213.0   \n",
       "\n",
       "   from_station_id              from_station_name  to_station_id  \\\n",
       "0              117       Wilton Ave & Belmont Ave            497   \n",
       "1              381        Western Ave & Monroe St            203   \n",
       "2              313  Lakeview Ave & Fullerton Pkwy            144   \n",
       "3              313  Lakeview Ave & Fullerton Pkwy            144   \n",
       "4              168         Michigan Ave & 14th St             62   \n",
       "\n",
       "             to_station_name    usertype gender  birthyear  \n",
       "0  Kimball Ave & Belmont Ave  Subscriber   Male     1992.0  \n",
       "1      Western Ave & 21st St    Customer    NaN        NaN  \n",
       "2  Larrabee St & Webster Ave    Customer    NaN        NaN  \n",
       "3  Larrabee St & Webster Ave    Customer    NaN        NaN  \n",
       "4            McCormick Place    Customer    NaN        NaN  "
      ]
     },
     "execution_count": 12,
     "metadata": {},
     "output_type": "execute_result"
    }
   ],
   "source": [
    "data_Q3.head()"
   ]
  },
  {
   "cell_type": "code",
   "execution_count": 13,
   "metadata": {},
   "outputs": [
    {
     "name": "stdout",
     "output_type": "stream",
     "text": [
      "<class 'pandas.core.frame.DataFrame'>\n",
      "RangeIndex: 1640718 entries, 0 to 1640717\n",
      "Data columns (total 12 columns):\n",
      " #   Column             Non-Null Count    Dtype  \n",
      "---  ------             --------------    -----  \n",
      " 0   trip_id            1640718 non-null  int64  \n",
      " 1   start_time         1640718 non-null  object \n",
      " 2   end_time           1640718 non-null  object \n",
      " 3   bikeid             1640718 non-null  int64  \n",
      " 4   tripduration       1640718 non-null  object \n",
      " 5   from_station_id    1640718 non-null  int64  \n",
      " 6   from_station_name  1640718 non-null  object \n",
      " 7   to_station_id      1640718 non-null  int64  \n",
      " 8   to_station_name    1640718 non-null  object \n",
      " 9   usertype           1640718 non-null  object \n",
      " 10  gender             1353368 non-null  object \n",
      " 11  birthyear          1362624 non-null  float64\n",
      "dtypes: float64(1), int64(4), object(7)\n",
      "memory usage: 150.2+ MB\n"
     ]
    }
   ],
   "source": [
    "data_Q3.info()"
   ]
  },
  {
   "cell_type": "markdown",
   "metadata": {},
   "source": [
    "usual missing data and datatypes need to be fixed"
   ]
  },
  {
   "cell_type": "code",
   "execution_count": 14,
   "metadata": {},
   "outputs": [],
   "source": [
    "assert len(data_Q3.gender.unique()) == 3\n",
    "assert len(data_Q3.usertype.unique()) == 2"
   ]
  },
  {
   "cell_type": "markdown",
   "metadata": {},
   "source": [
    "we made sure there is no inconsistent data entries because in gender there is male,female and NaN hence '==3' but in usertype there is subscriber and customer hence '==2'"
   ]
  },
  {
   "cell_type": "code",
   "execution_count": 15,
   "metadata": {},
   "outputs": [
    {
     "data": {
      "text/plain": [
       "0"
      ]
     },
     "execution_count": 15,
     "metadata": {},
     "output_type": "execute_result"
    }
   ],
   "source": [
    "data_Q3.duplicated().sum()"
   ]
  },
  {
   "cell_type": "markdown",
   "metadata": {},
   "source": [
    "no duplicates here"
   ]
  },
  {
   "cell_type": "code",
   "execution_count": 16,
   "metadata": {},
   "outputs": [
    {
     "data": {
      "text/html": [
       "<div>\n",
       "<style scoped>\n",
       "    .dataframe tbody tr th:only-of-type {\n",
       "        vertical-align: middle;\n",
       "    }\n",
       "\n",
       "    .dataframe tbody tr th {\n",
       "        vertical-align: top;\n",
       "    }\n",
       "\n",
       "    .dataframe thead th {\n",
       "        text-align: right;\n",
       "    }\n",
       "</style>\n",
       "<table border=\"1\" class=\"dataframe\">\n",
       "  <thead>\n",
       "    <tr style=\"text-align: right;\">\n",
       "      <th></th>\n",
       "      <th>trip_id</th>\n",
       "      <th>start_time</th>\n",
       "      <th>end_time</th>\n",
       "      <th>bikeid</th>\n",
       "      <th>tripduration</th>\n",
       "      <th>from_station_id</th>\n",
       "      <th>from_station_name</th>\n",
       "      <th>to_station_id</th>\n",
       "      <th>to_station_name</th>\n",
       "      <th>usertype</th>\n",
       "      <th>gender</th>\n",
       "      <th>birthyear</th>\n",
       "    </tr>\n",
       "  </thead>\n",
       "  <tbody>\n",
       "    <tr>\n",
       "      <th>0</th>\n",
       "      <td>25223640</td>\n",
       "      <td>2019-10-01 00:01:39</td>\n",
       "      <td>2019-10-01 00:17:20</td>\n",
       "      <td>2215</td>\n",
       "      <td>940.0</td>\n",
       "      <td>20</td>\n",
       "      <td>Sheffield Ave &amp; Kingsbury St</td>\n",
       "      <td>309</td>\n",
       "      <td>Leavitt St &amp; Armitage Ave</td>\n",
       "      <td>Subscriber</td>\n",
       "      <td>Male</td>\n",
       "      <td>1987.0</td>\n",
       "    </tr>\n",
       "    <tr>\n",
       "      <th>1</th>\n",
       "      <td>25223641</td>\n",
       "      <td>2019-10-01 00:02:16</td>\n",
       "      <td>2019-10-01 00:06:34</td>\n",
       "      <td>6328</td>\n",
       "      <td>258.0</td>\n",
       "      <td>19</td>\n",
       "      <td>Throop (Loomis) St &amp; Taylor St</td>\n",
       "      <td>241</td>\n",
       "      <td>Morgan St &amp; Polk St</td>\n",
       "      <td>Subscriber</td>\n",
       "      <td>Male</td>\n",
       "      <td>1998.0</td>\n",
       "    </tr>\n",
       "    <tr>\n",
       "      <th>2</th>\n",
       "      <td>25223642</td>\n",
       "      <td>2019-10-01 00:04:32</td>\n",
       "      <td>2019-10-01 00:18:43</td>\n",
       "      <td>3003</td>\n",
       "      <td>850.0</td>\n",
       "      <td>84</td>\n",
       "      <td>Milwaukee Ave &amp; Grand Ave</td>\n",
       "      <td>199</td>\n",
       "      <td>Wabash Ave &amp; Grand Ave</td>\n",
       "      <td>Subscriber</td>\n",
       "      <td>Female</td>\n",
       "      <td>1991.0</td>\n",
       "    </tr>\n",
       "    <tr>\n",
       "      <th>3</th>\n",
       "      <td>25223643</td>\n",
       "      <td>2019-10-01 00:04:32</td>\n",
       "      <td>2019-10-01 00:43:43</td>\n",
       "      <td>3275</td>\n",
       "      <td>2,350.0</td>\n",
       "      <td>313</td>\n",
       "      <td>Lakeview Ave &amp; Fullerton Pkwy</td>\n",
       "      <td>290</td>\n",
       "      <td>Kedzie Ave &amp; Palmer Ct</td>\n",
       "      <td>Subscriber</td>\n",
       "      <td>Male</td>\n",
       "      <td>1990.0</td>\n",
       "    </tr>\n",
       "    <tr>\n",
       "      <th>4</th>\n",
       "      <td>25223644</td>\n",
       "      <td>2019-10-01 00:04:34</td>\n",
       "      <td>2019-10-01 00:35:42</td>\n",
       "      <td>5294</td>\n",
       "      <td>1,867.0</td>\n",
       "      <td>210</td>\n",
       "      <td>Ashland Ave &amp; Division St</td>\n",
       "      <td>382</td>\n",
       "      <td>Western Ave &amp; Congress Pkwy</td>\n",
       "      <td>Subscriber</td>\n",
       "      <td>Male</td>\n",
       "      <td>1987.0</td>\n",
       "    </tr>\n",
       "  </tbody>\n",
       "</table>\n",
       "</div>"
      ],
      "text/plain": [
       "    trip_id           start_time             end_time  bikeid tripduration  \\\n",
       "0  25223640  2019-10-01 00:01:39  2019-10-01 00:17:20    2215        940.0   \n",
       "1  25223641  2019-10-01 00:02:16  2019-10-01 00:06:34    6328        258.0   \n",
       "2  25223642  2019-10-01 00:04:32  2019-10-01 00:18:43    3003        850.0   \n",
       "3  25223643  2019-10-01 00:04:32  2019-10-01 00:43:43    3275      2,350.0   \n",
       "4  25223644  2019-10-01 00:04:34  2019-10-01 00:35:42    5294      1,867.0   \n",
       "\n",
       "   from_station_id               from_station_name  to_station_id  \\\n",
       "0               20    Sheffield Ave & Kingsbury St            309   \n",
       "1               19  Throop (Loomis) St & Taylor St            241   \n",
       "2               84       Milwaukee Ave & Grand Ave            199   \n",
       "3              313   Lakeview Ave & Fullerton Pkwy            290   \n",
       "4              210       Ashland Ave & Division St            382   \n",
       "\n",
       "               to_station_name    usertype  gender  birthyear  \n",
       "0    Leavitt St & Armitage Ave  Subscriber    Male     1987.0  \n",
       "1          Morgan St & Polk St  Subscriber    Male     1998.0  \n",
       "2       Wabash Ave & Grand Ave  Subscriber  Female     1991.0  \n",
       "3       Kedzie Ave & Palmer Ct  Subscriber    Male     1990.0  \n",
       "4  Western Ave & Congress Pkwy  Subscriber    Male     1987.0  "
      ]
     },
     "execution_count": 16,
     "metadata": {},
     "output_type": "execute_result"
    }
   ],
   "source": [
    "data_Q4.head()"
   ]
  },
  {
   "cell_type": "code",
   "execution_count": 17,
   "metadata": {},
   "outputs": [
    {
     "name": "stdout",
     "output_type": "stream",
     "text": [
      "<class 'pandas.core.frame.DataFrame'>\n",
      "RangeIndex: 704054 entries, 0 to 704053\n",
      "Data columns (total 12 columns):\n",
      " #   Column             Non-Null Count   Dtype  \n",
      "---  ------             --------------   -----  \n",
      " 0   trip_id            704054 non-null  int64  \n",
      " 1   start_time         704054 non-null  object \n",
      " 2   end_time           704054 non-null  object \n",
      " 3   bikeid             704054 non-null  int64  \n",
      " 4   tripduration       704054 non-null  object \n",
      " 5   from_station_id    704054 non-null  int64  \n",
      " 6   from_station_name  704054 non-null  object \n",
      " 7   to_station_id      704054 non-null  int64  \n",
      " 8   to_station_name    704054 non-null  object \n",
      " 9   usertype           704054 non-null  object \n",
      " 10  gender             637463 non-null  object \n",
      " 11  birthyear          642373 non-null  float64\n",
      "dtypes: float64(1), int64(4), object(7)\n",
      "memory usage: 64.5+ MB\n"
     ]
    }
   ],
   "source": [
    "data_Q4.info()"
   ]
  },
  {
   "cell_type": "code",
   "execution_count": 18,
   "metadata": {},
   "outputs": [],
   "source": [
    "assert len(data_Q4.gender.unique()) == 3\n",
    "assert len(data_Q4.usertype.unique()) == 2"
   ]
  },
  {
   "cell_type": "code",
   "execution_count": 19,
   "metadata": {},
   "outputs": [
    {
     "data": {
      "text/plain": [
       "0"
      ]
     },
     "execution_count": 19,
     "metadata": {},
     "output_type": "execute_result"
    }
   ],
   "source": [
    "data_Q4.duplicated().sum()"
   ]
  },
  {
   "cell_type": "markdown",
   "metadata": {},
   "source": [
    "same changes in the past three datasets "
   ]
  },
  {
   "cell_type": "markdown",
   "metadata": {},
   "source": [
    "So now we know the changes that need to be done to each dataset so we can analyze our data correctly, next step is data cleaning, it is time to take care of our problems "
   ]
  },
  {
   "cell_type": "markdown",
   "metadata": {},
   "source": [
    "<a id='process'></a>\n",
    "## Process Phase\n",
    "\n",
    "Following the steps of the data analysis process: Ask, Prepare , **Process** , Analyze, Share, and Act.\n",
    "\n",
    "Now we start cleaning our data and processing it so we can produce valid visualizations and conclusions from it, Also this is the last step of **Data Wrangling** Data Cleaning\n",
    "\n"
   ]
  },
  {
   "cell_type": "markdown",
   "metadata": {},
   "source": [
    "We will start by generalizing column names in the four datasets"
   ]
  },
  {
   "cell_type": "code",
   "execution_count": 20,
   "metadata": {},
   "outputs": [],
   "source": [
    "for df in [data_Q1,data_Q3,data_Q4]:\n",
    "    df.rename(columns = {'bikeid':'bike_id', 'tripduration':'trip_duration',\n",
    "                              'usertype':'user_type'}, inplace = True)"
   ]
  },
  {
   "cell_type": "code",
   "execution_count": 21,
   "metadata": {},
   "outputs": [
    {
     "data": {
      "text/html": [
       "<div>\n",
       "<style scoped>\n",
       "    .dataframe tbody tr th:only-of-type {\n",
       "        vertical-align: middle;\n",
       "    }\n",
       "\n",
       "    .dataframe tbody tr th {\n",
       "        vertical-align: top;\n",
       "    }\n",
       "\n",
       "    .dataframe thead th {\n",
       "        text-align: right;\n",
       "    }\n",
       "</style>\n",
       "<table border=\"1\" class=\"dataframe\">\n",
       "  <thead>\n",
       "    <tr style=\"text-align: right;\">\n",
       "      <th></th>\n",
       "      <th>trip_id</th>\n",
       "      <th>start_time</th>\n",
       "      <th>end_time</th>\n",
       "      <th>bike_id</th>\n",
       "      <th>trip_duration</th>\n",
       "      <th>from_station_id</th>\n",
       "      <th>from_station_name</th>\n",
       "      <th>to_station_id</th>\n",
       "      <th>to_station_name</th>\n",
       "      <th>user_type</th>\n",
       "      <th>gender</th>\n",
       "      <th>birthyear</th>\n",
       "    </tr>\n",
       "  </thead>\n",
       "  <tbody>\n",
       "    <tr>\n",
       "      <th>0</th>\n",
       "      <td>22178529</td>\n",
       "      <td>2019-04-01 00:02:22</td>\n",
       "      <td>2019-04-01 00:09:48</td>\n",
       "      <td>6251</td>\n",
       "      <td>446.0</td>\n",
       "      <td>81</td>\n",
       "      <td>Daley Center Plaza</td>\n",
       "      <td>56</td>\n",
       "      <td>Desplaines St &amp; Kinzie St</td>\n",
       "      <td>Subscriber</td>\n",
       "      <td>Male</td>\n",
       "      <td>1975.0</td>\n",
       "    </tr>\n",
       "    <tr>\n",
       "      <th>1</th>\n",
       "      <td>22178530</td>\n",
       "      <td>2019-04-01 00:03:02</td>\n",
       "      <td>2019-04-01 00:20:30</td>\n",
       "      <td>6226</td>\n",
       "      <td>1,048.0</td>\n",
       "      <td>317</td>\n",
       "      <td>Wood St &amp; Taylor St</td>\n",
       "      <td>59</td>\n",
       "      <td>Wabash Ave &amp; Roosevelt Rd</td>\n",
       "      <td>Subscriber</td>\n",
       "      <td>Female</td>\n",
       "      <td>1984.0</td>\n",
       "    </tr>\n",
       "    <tr>\n",
       "      <th>2</th>\n",
       "      <td>22178531</td>\n",
       "      <td>2019-04-01 00:11:07</td>\n",
       "      <td>2019-04-01 00:15:19</td>\n",
       "      <td>5649</td>\n",
       "      <td>252.0</td>\n",
       "      <td>283</td>\n",
       "      <td>LaSalle St &amp; Jackson Blvd</td>\n",
       "      <td>174</td>\n",
       "      <td>Canal St &amp; Madison St</td>\n",
       "      <td>Subscriber</td>\n",
       "      <td>Male</td>\n",
       "      <td>1990.0</td>\n",
       "    </tr>\n",
       "    <tr>\n",
       "      <th>3</th>\n",
       "      <td>22178532</td>\n",
       "      <td>2019-04-01 00:13:01</td>\n",
       "      <td>2019-04-01 00:18:58</td>\n",
       "      <td>4151</td>\n",
       "      <td>357.0</td>\n",
       "      <td>26</td>\n",
       "      <td>McClurg Ct &amp; Illinois St</td>\n",
       "      <td>133</td>\n",
       "      <td>Kingsbury St &amp; Kinzie St</td>\n",
       "      <td>Subscriber</td>\n",
       "      <td>Male</td>\n",
       "      <td>1993.0</td>\n",
       "    </tr>\n",
       "    <tr>\n",
       "      <th>4</th>\n",
       "      <td>22178533</td>\n",
       "      <td>2019-04-01 00:19:26</td>\n",
       "      <td>2019-04-01 00:36:13</td>\n",
       "      <td>3270</td>\n",
       "      <td>1,007.0</td>\n",
       "      <td>202</td>\n",
       "      <td>Halsted St &amp; 18th St</td>\n",
       "      <td>129</td>\n",
       "      <td>Blue Island Ave &amp; 18th St</td>\n",
       "      <td>Subscriber</td>\n",
       "      <td>Male</td>\n",
       "      <td>1992.0</td>\n",
       "    </tr>\n",
       "  </tbody>\n",
       "</table>\n",
       "</div>"
      ],
      "text/plain": [
       "    trip_id           start_time             end_time  bike_id trip_duration  \\\n",
       "0  22178529  2019-04-01 00:02:22  2019-04-01 00:09:48     6251         446.0   \n",
       "1  22178530  2019-04-01 00:03:02  2019-04-01 00:20:30     6226       1,048.0   \n",
       "2  22178531  2019-04-01 00:11:07  2019-04-01 00:15:19     5649         252.0   \n",
       "3  22178532  2019-04-01 00:13:01  2019-04-01 00:18:58     4151         357.0   \n",
       "4  22178533  2019-04-01 00:19:26  2019-04-01 00:36:13     3270       1,007.0   \n",
       "\n",
       "   from_station_id          from_station_name  to_station_id  \\\n",
       "0               81         Daley Center Plaza             56   \n",
       "1              317        Wood St & Taylor St             59   \n",
       "2              283  LaSalle St & Jackson Blvd            174   \n",
       "3               26   McClurg Ct & Illinois St            133   \n",
       "4              202       Halsted St & 18th St            129   \n",
       "\n",
       "             to_station_name   user_type  gender  birthyear  \n",
       "0  Desplaines St & Kinzie St  Subscriber    Male     1975.0  \n",
       "1  Wabash Ave & Roosevelt Rd  Subscriber  Female     1984.0  \n",
       "2      Canal St & Madison St  Subscriber    Male     1990.0  \n",
       "3   Kingsbury St & Kinzie St  Subscriber    Male     1993.0  \n",
       "4  Blue Island Ave & 18th St  Subscriber    Male     1992.0  "
      ]
     },
     "execution_count": 21,
     "metadata": {},
     "output_type": "execute_result"
    }
   ],
   "source": [
    "general_col_names = data_Q1.columns\n",
    "col_names_data_Q2=data_Q2.columns\n",
    "for (i,v) in itertools.zip_longest(general_col_names,col_names_data_Q2):\n",
    "    data_Q2.rename(columns = {v : i},inplace=True)\n",
    "data_Q2.head()"
   ]
  },
  {
   "cell_type": "markdown",
   "metadata": {},
   "source": [
    "Now we our datasets have the same column names, next let's fix the rest of the issues"
   ]
  },
  {
   "cell_type": "code",
   "execution_count": 22,
   "metadata": {},
   "outputs": [],
   "source": [
    "combined_data=[data_Q1,data_Q2,data_Q3,data_Q4]\n",
    "for df in combined_data:\n",
    "    #fixing start and end time data types\n",
    "    df['start_time'] = pd.to_datetime(df['start_time'])\n",
    "    df['end_time'] = pd.to_datetime(df['end_time'])\n",
    "    \n",
    "    #converting trip into minutes\n",
    "    df['duration'] = (df.end_time - df.start_time).dt.total_seconds() /60\n",
    "    \n",
    "    #adding age column and weekday for further invistagation\n",
    "    df['Age']=2022 - df.birthyear\n",
    "    df['weekday']=df.start_time.dt.day_name()\n",
    "    \n",
    "    #adding age groups \n",
    "    df.loc[((df.Age <3)) , 'age_group'] = 'too young'\n",
    "    df.loc[((df.Age >=3) & (df.Age <14)) , 'age_group'] = 'Kid'\n",
    "    df.loc[((df.Age >=14) & (df.Age <21)) , 'age_group'] = 'Teen'\n",
    "    df.loc[((df.Age >=21) & (df.Age <45)) , 'age_group'] = 'Adult'\n",
    "    df.loc[((df.Age >=45)) , 'age_group'] = 'Senior'\n",
    "    df.loc[((df.Age >90)) , 'age_group'] = 'too old'\n",
    "\n"
   ]
  },
  {
   "cell_type": "code",
   "execution_count": 23,
   "metadata": {},
   "outputs": [
    {
     "data": {
      "text/html": [
       "<div>\n",
       "<style scoped>\n",
       "    .dataframe tbody tr th:only-of-type {\n",
       "        vertical-align: middle;\n",
       "    }\n",
       "\n",
       "    .dataframe tbody tr th {\n",
       "        vertical-align: top;\n",
       "    }\n",
       "\n",
       "    .dataframe thead th {\n",
       "        text-align: right;\n",
       "    }\n",
       "</style>\n",
       "<table border=\"1\" class=\"dataframe\">\n",
       "  <thead>\n",
       "    <tr style=\"text-align: right;\">\n",
       "      <th></th>\n",
       "      <th>trip_id</th>\n",
       "      <th>start_time</th>\n",
       "      <th>end_time</th>\n",
       "      <th>bike_id</th>\n",
       "      <th>trip_duration</th>\n",
       "      <th>from_station_id</th>\n",
       "      <th>from_station_name</th>\n",
       "      <th>to_station_id</th>\n",
       "      <th>to_station_name</th>\n",
       "      <th>user_type</th>\n",
       "      <th>gender</th>\n",
       "      <th>birthyear</th>\n",
       "      <th>duration</th>\n",
       "      <th>Age</th>\n",
       "      <th>weekday</th>\n",
       "      <th>age_group</th>\n",
       "    </tr>\n",
       "  </thead>\n",
       "  <tbody>\n",
       "    <tr>\n",
       "      <th>0</th>\n",
       "      <td>21742443</td>\n",
       "      <td>2019-01-01 00:04:37</td>\n",
       "      <td>2019-01-01 00:11:07</td>\n",
       "      <td>2167</td>\n",
       "      <td>390.0</td>\n",
       "      <td>199</td>\n",
       "      <td>Wabash Ave &amp; Grand Ave</td>\n",
       "      <td>84</td>\n",
       "      <td>Milwaukee Ave &amp; Grand Ave</td>\n",
       "      <td>Subscriber</td>\n",
       "      <td>Male</td>\n",
       "      <td>1989.0</td>\n",
       "      <td>6.500000</td>\n",
       "      <td>33.0</td>\n",
       "      <td>Tuesday</td>\n",
       "      <td>Adult</td>\n",
       "    </tr>\n",
       "    <tr>\n",
       "      <th>1</th>\n",
       "      <td>21742444</td>\n",
       "      <td>2019-01-01 00:08:13</td>\n",
       "      <td>2019-01-01 00:15:34</td>\n",
       "      <td>4386</td>\n",
       "      <td>441.0</td>\n",
       "      <td>44</td>\n",
       "      <td>State St &amp; Randolph St</td>\n",
       "      <td>624</td>\n",
       "      <td>Dearborn St &amp; Van Buren St (*)</td>\n",
       "      <td>Subscriber</td>\n",
       "      <td>Female</td>\n",
       "      <td>1990.0</td>\n",
       "      <td>7.350000</td>\n",
       "      <td>32.0</td>\n",
       "      <td>Tuesday</td>\n",
       "      <td>Adult</td>\n",
       "    </tr>\n",
       "    <tr>\n",
       "      <th>2</th>\n",
       "      <td>21742445</td>\n",
       "      <td>2019-01-01 00:13:23</td>\n",
       "      <td>2019-01-01 00:27:12</td>\n",
       "      <td>1524</td>\n",
       "      <td>829.0</td>\n",
       "      <td>15</td>\n",
       "      <td>Racine Ave &amp; 18th St</td>\n",
       "      <td>644</td>\n",
       "      <td>Western Ave &amp; Fillmore St (*)</td>\n",
       "      <td>Subscriber</td>\n",
       "      <td>Female</td>\n",
       "      <td>1994.0</td>\n",
       "      <td>13.816667</td>\n",
       "      <td>28.0</td>\n",
       "      <td>Tuesday</td>\n",
       "      <td>Adult</td>\n",
       "    </tr>\n",
       "    <tr>\n",
       "      <th>3</th>\n",
       "      <td>21742446</td>\n",
       "      <td>2019-01-01 00:13:45</td>\n",
       "      <td>2019-01-01 00:43:28</td>\n",
       "      <td>252</td>\n",
       "      <td>1,783.0</td>\n",
       "      <td>123</td>\n",
       "      <td>California Ave &amp; Milwaukee Ave</td>\n",
       "      <td>176</td>\n",
       "      <td>Clark St &amp; Elm St</td>\n",
       "      <td>Subscriber</td>\n",
       "      <td>Male</td>\n",
       "      <td>1993.0</td>\n",
       "      <td>29.716667</td>\n",
       "      <td>29.0</td>\n",
       "      <td>Tuesday</td>\n",
       "      <td>Adult</td>\n",
       "    </tr>\n",
       "    <tr>\n",
       "      <th>4</th>\n",
       "      <td>21742447</td>\n",
       "      <td>2019-01-01 00:14:52</td>\n",
       "      <td>2019-01-01 00:20:56</td>\n",
       "      <td>1170</td>\n",
       "      <td>364.0</td>\n",
       "      <td>173</td>\n",
       "      <td>Mies van der Rohe Way &amp; Chicago Ave</td>\n",
       "      <td>35</td>\n",
       "      <td>Streeter Dr &amp; Grand Ave</td>\n",
       "      <td>Subscriber</td>\n",
       "      <td>Male</td>\n",
       "      <td>1994.0</td>\n",
       "      <td>6.066667</td>\n",
       "      <td>28.0</td>\n",
       "      <td>Tuesday</td>\n",
       "      <td>Adult</td>\n",
       "    </tr>\n",
       "  </tbody>\n",
       "</table>\n",
       "</div>"
      ],
      "text/plain": [
       "    trip_id          start_time            end_time  bike_id trip_duration  \\\n",
       "0  21742443 2019-01-01 00:04:37 2019-01-01 00:11:07     2167         390.0   \n",
       "1  21742444 2019-01-01 00:08:13 2019-01-01 00:15:34     4386         441.0   \n",
       "2  21742445 2019-01-01 00:13:23 2019-01-01 00:27:12     1524         829.0   \n",
       "3  21742446 2019-01-01 00:13:45 2019-01-01 00:43:28      252       1,783.0   \n",
       "4  21742447 2019-01-01 00:14:52 2019-01-01 00:20:56     1170         364.0   \n",
       "\n",
       "   from_station_id                    from_station_name  to_station_id  \\\n",
       "0              199               Wabash Ave & Grand Ave             84   \n",
       "1               44               State St & Randolph St            624   \n",
       "2               15                 Racine Ave & 18th St            644   \n",
       "3              123       California Ave & Milwaukee Ave            176   \n",
       "4              173  Mies van der Rohe Way & Chicago Ave             35   \n",
       "\n",
       "                  to_station_name   user_type  gender  birthyear   duration  \\\n",
       "0       Milwaukee Ave & Grand Ave  Subscriber    Male     1989.0   6.500000   \n",
       "1  Dearborn St & Van Buren St (*)  Subscriber  Female     1990.0   7.350000   \n",
       "2   Western Ave & Fillmore St (*)  Subscriber  Female     1994.0  13.816667   \n",
       "3               Clark St & Elm St  Subscriber    Male     1993.0  29.716667   \n",
       "4         Streeter Dr & Grand Ave  Subscriber    Male     1994.0   6.066667   \n",
       "\n",
       "    Age  weekday age_group  \n",
       "0  33.0  Tuesday     Adult  \n",
       "1  32.0  Tuesday     Adult  \n",
       "2  28.0  Tuesday     Adult  \n",
       "3  29.0  Tuesday     Adult  \n",
       "4  28.0  Tuesday     Adult  "
      ]
     },
     "execution_count": 23,
     "metadata": {},
     "output_type": "execute_result"
    }
   ],
   "source": [
    "data_Q1.head()"
   ]
  },
  {
   "cell_type": "markdown",
   "metadata": {},
   "source": [
    "Now all of our data are prepared for further investigation just one last validation before we proceed to the analyze phase\n",
    "\n",
    "we are going to search for inconsistent data entry which mean that we are searching for typos and outliers in \n",
    "\n",
    "\n",
    "> <li>duration, user type, gender, Age</li>\n"
   ]
  },
  {
   "cell_type": "code",
   "execution_count": 24,
   "metadata": {},
   "outputs": [
    {
     "ename": "AssertionError",
     "evalue": "",
     "output_type": "error",
     "traceback": [
      "\u001b[1;31m---------------------------------------------------------------------------\u001b[0m",
      "\u001b[1;31mAssertionError\u001b[0m                            Traceback (most recent call last)",
      "Input \u001b[1;32mIn [24]\u001b[0m, in \u001b[0;36m<cell line: 3>\u001b[1;34m()\u001b[0m\n\u001b[0;32m      1\u001b[0m \u001b[38;5;66;03m#duration \u001b[39;00m\n\u001b[0;32m      2\u001b[0m \u001b[38;5;66;03m#lets see if there is any trips lessthan 0 minutes \u001b[39;00m\n\u001b[0;32m      3\u001b[0m \u001b[38;5;28;01mfor\u001b[39;00m df \u001b[38;5;129;01min\u001b[39;00m combined_data:\n\u001b[1;32m----> 4\u001b[0m     \u001b[38;5;28;01massert\u001b[39;00m \u001b[38;5;28mmin\u001b[39m(df\u001b[38;5;241m.\u001b[39mduration) \u001b[38;5;241m>\u001b[39m \u001b[38;5;241m1\u001b[39m\n\u001b[0;32m      5\u001b[0m \u001b[38;5;28mprint\u001b[39m(\u001b[38;5;124m'\u001b[39m\u001b[38;5;124mdata is consistent\u001b[39m\u001b[38;5;124m'\u001b[39m)\n",
      "\u001b[1;31mAssertionError\u001b[0m: "
     ]
    }
   ],
   "source": [
    "#duration \n",
    "#lets see if there is any trips lessthan 0 minutes \n",
    "for df in combined_data:\n",
    "    assert min(df.duration) > 1\n",
    "print('data is consistent')"
   ]
  },
  {
   "cell_type": "markdown",
   "metadata": {},
   "source": [
    "there is an error in data_Q4 "
   ]
  },
  {
   "cell_type": "code",
   "execution_count": 25,
   "metadata": {},
   "outputs": [
    {
     "data": {
      "text/html": [
       "<div>\n",
       "<style scoped>\n",
       "    .dataframe tbody tr th:only-of-type {\n",
       "        vertical-align: middle;\n",
       "    }\n",
       "\n",
       "    .dataframe tbody tr th {\n",
       "        vertical-align: top;\n",
       "    }\n",
       "\n",
       "    .dataframe thead th {\n",
       "        text-align: right;\n",
       "    }\n",
       "</style>\n",
       "<table border=\"1\" class=\"dataframe\">\n",
       "  <thead>\n",
       "    <tr style=\"text-align: right;\">\n",
       "      <th></th>\n",
       "      <th>trip_id</th>\n",
       "      <th>start_time</th>\n",
       "      <th>end_time</th>\n",
       "      <th>bike_id</th>\n",
       "      <th>trip_duration</th>\n",
       "      <th>from_station_id</th>\n",
       "      <th>from_station_name</th>\n",
       "      <th>to_station_id</th>\n",
       "      <th>to_station_name</th>\n",
       "      <th>user_type</th>\n",
       "      <th>gender</th>\n",
       "      <th>birthyear</th>\n",
       "      <th>duration</th>\n",
       "      <th>Age</th>\n",
       "      <th>weekday</th>\n",
       "      <th>age_group</th>\n",
       "    </tr>\n",
       "  </thead>\n",
       "  <tbody>\n",
       "    <tr>\n",
       "      <th>384478</th>\n",
       "      <td>25625830</td>\n",
       "      <td>2019-11-03 01:43:21</td>\n",
       "      <td>2019-11-03 01:09:56</td>\n",
       "      <td>4141</td>\n",
       "      <td>1,594.0</td>\n",
       "      <td>632</td>\n",
       "      <td>Clark St &amp; Newport St</td>\n",
       "      <td>133</td>\n",
       "      <td>Kingsbury St &amp; Kinzie St</td>\n",
       "      <td>Customer</td>\n",
       "      <td>Male</td>\n",
       "      <td>1995.0</td>\n",
       "      <td>-33.416667</td>\n",
       "      <td>27.0</td>\n",
       "      <td>Sunday</td>\n",
       "      <td>Adult</td>\n",
       "    </tr>\n",
       "    <tr>\n",
       "      <th>384483</th>\n",
       "      <td>25625836</td>\n",
       "      <td>2019-11-03 01:46:01</td>\n",
       "      <td>2019-11-03 01:10:44</td>\n",
       "      <td>6329</td>\n",
       "      <td>1,483.0</td>\n",
       "      <td>373</td>\n",
       "      <td>Kedzie Ave &amp; Chicago Ave</td>\n",
       "      <td>498</td>\n",
       "      <td>California Ave &amp; Fletcher St</td>\n",
       "      <td>Customer</td>\n",
       "      <td>NaN</td>\n",
       "      <td>NaN</td>\n",
       "      <td>-35.283333</td>\n",
       "      <td>NaN</td>\n",
       "      <td>Sunday</td>\n",
       "      <td>NaN</td>\n",
       "    </tr>\n",
       "    <tr>\n",
       "      <th>384485</th>\n",
       "      <td>25625838</td>\n",
       "      <td>2019-11-03 01:47:49</td>\n",
       "      <td>2019-11-03 01:02:40</td>\n",
       "      <td>964</td>\n",
       "      <td>891.0</td>\n",
       "      <td>229</td>\n",
       "      <td>Southport Ave &amp; Roscoe St</td>\n",
       "      <td>87</td>\n",
       "      <td>Racine Ave &amp; Fullerton Ave</td>\n",
       "      <td>Subscriber</td>\n",
       "      <td>Female</td>\n",
       "      <td>1987.0</td>\n",
       "      <td>-45.150000</td>\n",
       "      <td>35.0</td>\n",
       "      <td>Sunday</td>\n",
       "      <td>Adult</td>\n",
       "    </tr>\n",
       "    <tr>\n",
       "      <th>384486</th>\n",
       "      <td>25625839</td>\n",
       "      <td>2019-11-03 01:48:04</td>\n",
       "      <td>2019-11-03 01:16:48</td>\n",
       "      <td>2214</td>\n",
       "      <td>1,724.0</td>\n",
       "      <td>131</td>\n",
       "      <td>Lincoln Ave &amp; Belmont Ave</td>\n",
       "      <td>131</td>\n",
       "      <td>Lincoln Ave &amp; Belmont Ave</td>\n",
       "      <td>Subscriber</td>\n",
       "      <td>Male</td>\n",
       "      <td>1996.0</td>\n",
       "      <td>-31.266667</td>\n",
       "      <td>26.0</td>\n",
       "      <td>Sunday</td>\n",
       "      <td>Adult</td>\n",
       "    </tr>\n",
       "    <tr>\n",
       "      <th>384487</th>\n",
       "      <td>25625841</td>\n",
       "      <td>2019-11-03 01:50:31</td>\n",
       "      <td>2019-11-03 01:04:25</td>\n",
       "      <td>4179</td>\n",
       "      <td>834.0</td>\n",
       "      <td>298</td>\n",
       "      <td>Lincoln Ave &amp; Belle Plaine Ave</td>\n",
       "      <td>258</td>\n",
       "      <td>Logan Blvd &amp; Elston Ave</td>\n",
       "      <td>Subscriber</td>\n",
       "      <td>Male</td>\n",
       "      <td>1975.0</td>\n",
       "      <td>-46.100000</td>\n",
       "      <td>47.0</td>\n",
       "      <td>Sunday</td>\n",
       "      <td>Senior</td>\n",
       "    </tr>\n",
       "    <tr>\n",
       "      <th>384489</th>\n",
       "      <td>25625843</td>\n",
       "      <td>2019-11-03 01:51:59</td>\n",
       "      <td>2019-11-03 01:03:02</td>\n",
       "      <td>2920</td>\n",
       "      <td>663.0</td>\n",
       "      <td>460</td>\n",
       "      <td>Clark St &amp; Bryn Mawr Ave</td>\n",
       "      <td>238</td>\n",
       "      <td>Wolcott (Ravenswood) Ave &amp; Montrose Ave</td>\n",
       "      <td>Subscriber</td>\n",
       "      <td>Male</td>\n",
       "      <td>1992.0</td>\n",
       "      <td>-48.950000</td>\n",
       "      <td>30.0</td>\n",
       "      <td>Sunday</td>\n",
       "      <td>Adult</td>\n",
       "    </tr>\n",
       "    <tr>\n",
       "      <th>384490</th>\n",
       "      <td>25625844</td>\n",
       "      <td>2019-11-03 01:51:55</td>\n",
       "      <td>2019-11-03 01:04:33</td>\n",
       "      <td>3338</td>\n",
       "      <td>757.0</td>\n",
       "      <td>177</td>\n",
       "      <td>Theater on the Lake</td>\n",
       "      <td>327</td>\n",
       "      <td>Sheffield Ave &amp; Webster Ave</td>\n",
       "      <td>Customer</td>\n",
       "      <td>NaN</td>\n",
       "      <td>NaN</td>\n",
       "      <td>-47.366667</td>\n",
       "      <td>NaN</td>\n",
       "      <td>Sunday</td>\n",
       "      <td>NaN</td>\n",
       "    </tr>\n",
       "    <tr>\n",
       "      <th>384491</th>\n",
       "      <td>25625845</td>\n",
       "      <td>2019-11-03 01:53:08</td>\n",
       "      <td>2019-11-03 01:04:53</td>\n",
       "      <td>2142</td>\n",
       "      <td>705.0</td>\n",
       "      <td>177</td>\n",
       "      <td>Theater on the Lake</td>\n",
       "      <td>327</td>\n",
       "      <td>Sheffield Ave &amp; Webster Ave</td>\n",
       "      <td>Customer</td>\n",
       "      <td>NaN</td>\n",
       "      <td>NaN</td>\n",
       "      <td>-48.250000</td>\n",
       "      <td>NaN</td>\n",
       "      <td>Sunday</td>\n",
       "      <td>NaN</td>\n",
       "    </tr>\n",
       "    <tr>\n",
       "      <th>384492</th>\n",
       "      <td>25625846</td>\n",
       "      <td>2019-11-03 01:53:10</td>\n",
       "      <td>2019-11-03 01:04:53</td>\n",
       "      <td>5877</td>\n",
       "      <td>703.0</td>\n",
       "      <td>177</td>\n",
       "      <td>Theater on the Lake</td>\n",
       "      <td>327</td>\n",
       "      <td>Sheffield Ave &amp; Webster Ave</td>\n",
       "      <td>Customer</td>\n",
       "      <td>NaN</td>\n",
       "      <td>NaN</td>\n",
       "      <td>-48.283333</td>\n",
       "      <td>NaN</td>\n",
       "      <td>Sunday</td>\n",
       "      <td>NaN</td>\n",
       "    </tr>\n",
       "    <tr>\n",
       "      <th>384493</th>\n",
       "      <td>25625847</td>\n",
       "      <td>2019-11-03 01:53:24</td>\n",
       "      <td>2019-11-03 01:06:08</td>\n",
       "      <td>3984</td>\n",
       "      <td>764.0</td>\n",
       "      <td>484</td>\n",
       "      <td>Monticello Ave &amp; Irving Park Rd</td>\n",
       "      <td>484</td>\n",
       "      <td>Monticello Ave &amp; Irving Park Rd</td>\n",
       "      <td>Customer</td>\n",
       "      <td>NaN</td>\n",
       "      <td>NaN</td>\n",
       "      <td>-47.266667</td>\n",
       "      <td>NaN</td>\n",
       "      <td>Sunday</td>\n",
       "      <td>NaN</td>\n",
       "    </tr>\n",
       "    <tr>\n",
       "      <th>384495</th>\n",
       "      <td>25625849</td>\n",
       "      <td>2019-11-03 01:55:33</td>\n",
       "      <td>2019-11-03 01:01:52</td>\n",
       "      <td>5059</td>\n",
       "      <td>379.0</td>\n",
       "      <td>109</td>\n",
       "      <td>900 W Harrison St</td>\n",
       "      <td>320</td>\n",
       "      <td>Loomis St &amp; Lexington St</td>\n",
       "      <td>Subscriber</td>\n",
       "      <td>Male</td>\n",
       "      <td>1999.0</td>\n",
       "      <td>-53.683333</td>\n",
       "      <td>23.0</td>\n",
       "      <td>Sunday</td>\n",
       "      <td>Adult</td>\n",
       "    </tr>\n",
       "    <tr>\n",
       "      <th>384496</th>\n",
       "      <td>25625850</td>\n",
       "      <td>2019-11-03 01:57:48</td>\n",
       "      <td>2019-11-03 01:01:26</td>\n",
       "      <td>5310</td>\n",
       "      <td>217.0</td>\n",
       "      <td>340</td>\n",
       "      <td>Clark St &amp; Wrightwood Ave</td>\n",
       "      <td>300</td>\n",
       "      <td>Broadway &amp; Barry Ave</td>\n",
       "      <td>Subscriber</td>\n",
       "      <td>Male</td>\n",
       "      <td>1992.0</td>\n",
       "      <td>-56.366667</td>\n",
       "      <td>30.0</td>\n",
       "      <td>Sunday</td>\n",
       "      <td>Adult</td>\n",
       "    </tr>\n",
       "    <tr>\n",
       "      <th>384497</th>\n",
       "      <td>25625851</td>\n",
       "      <td>2019-11-03 01:58:17</td>\n",
       "      <td>2019-11-03 01:08:27</td>\n",
       "      <td>6133</td>\n",
       "      <td>609.0</td>\n",
       "      <td>301</td>\n",
       "      <td>Clark St &amp; Schiller St</td>\n",
       "      <td>52</td>\n",
       "      <td>Michigan Ave &amp; Lake St</td>\n",
       "      <td>Subscriber</td>\n",
       "      <td>Male</td>\n",
       "      <td>1994.0</td>\n",
       "      <td>-49.833333</td>\n",
       "      <td>28.0</td>\n",
       "      <td>Sunday</td>\n",
       "      <td>Adult</td>\n",
       "    </tr>\n",
       "  </tbody>\n",
       "</table>\n",
       "</div>"
      ],
      "text/plain": [
       "         trip_id          start_time            end_time  bike_id  \\\n",
       "384478  25625830 2019-11-03 01:43:21 2019-11-03 01:09:56     4141   \n",
       "384483  25625836 2019-11-03 01:46:01 2019-11-03 01:10:44     6329   \n",
       "384485  25625838 2019-11-03 01:47:49 2019-11-03 01:02:40      964   \n",
       "384486  25625839 2019-11-03 01:48:04 2019-11-03 01:16:48     2214   \n",
       "384487  25625841 2019-11-03 01:50:31 2019-11-03 01:04:25     4179   \n",
       "384489  25625843 2019-11-03 01:51:59 2019-11-03 01:03:02     2920   \n",
       "384490  25625844 2019-11-03 01:51:55 2019-11-03 01:04:33     3338   \n",
       "384491  25625845 2019-11-03 01:53:08 2019-11-03 01:04:53     2142   \n",
       "384492  25625846 2019-11-03 01:53:10 2019-11-03 01:04:53     5877   \n",
       "384493  25625847 2019-11-03 01:53:24 2019-11-03 01:06:08     3984   \n",
       "384495  25625849 2019-11-03 01:55:33 2019-11-03 01:01:52     5059   \n",
       "384496  25625850 2019-11-03 01:57:48 2019-11-03 01:01:26     5310   \n",
       "384497  25625851 2019-11-03 01:58:17 2019-11-03 01:08:27     6133   \n",
       "\n",
       "       trip_duration  from_station_id                from_station_name  \\\n",
       "384478       1,594.0              632            Clark St & Newport St   \n",
       "384483       1,483.0              373         Kedzie Ave & Chicago Ave   \n",
       "384485         891.0              229        Southport Ave & Roscoe St   \n",
       "384486       1,724.0              131        Lincoln Ave & Belmont Ave   \n",
       "384487         834.0              298   Lincoln Ave & Belle Plaine Ave   \n",
       "384489         663.0              460         Clark St & Bryn Mawr Ave   \n",
       "384490         757.0              177              Theater on the Lake   \n",
       "384491         705.0              177              Theater on the Lake   \n",
       "384492         703.0              177              Theater on the Lake   \n",
       "384493         764.0              484  Monticello Ave & Irving Park Rd   \n",
       "384495         379.0              109                900 W Harrison St   \n",
       "384496         217.0              340        Clark St & Wrightwood Ave   \n",
       "384497         609.0              301           Clark St & Schiller St   \n",
       "\n",
       "        to_station_id                          to_station_name   user_type  \\\n",
       "384478            133                 Kingsbury St & Kinzie St    Customer   \n",
       "384483            498             California Ave & Fletcher St    Customer   \n",
       "384485             87               Racine Ave & Fullerton Ave  Subscriber   \n",
       "384486            131                Lincoln Ave & Belmont Ave  Subscriber   \n",
       "384487            258                  Logan Blvd & Elston Ave  Subscriber   \n",
       "384489            238  Wolcott (Ravenswood) Ave & Montrose Ave  Subscriber   \n",
       "384490            327              Sheffield Ave & Webster Ave    Customer   \n",
       "384491            327              Sheffield Ave & Webster Ave    Customer   \n",
       "384492            327              Sheffield Ave & Webster Ave    Customer   \n",
       "384493            484          Monticello Ave & Irving Park Rd    Customer   \n",
       "384495            320                 Loomis St & Lexington St  Subscriber   \n",
       "384496            300                     Broadway & Barry Ave  Subscriber   \n",
       "384497             52                   Michigan Ave & Lake St  Subscriber   \n",
       "\n",
       "        gender  birthyear   duration   Age weekday age_group  \n",
       "384478    Male     1995.0 -33.416667  27.0  Sunday     Adult  \n",
       "384483     NaN        NaN -35.283333   NaN  Sunday       NaN  \n",
       "384485  Female     1987.0 -45.150000  35.0  Sunday     Adult  \n",
       "384486    Male     1996.0 -31.266667  26.0  Sunday     Adult  \n",
       "384487    Male     1975.0 -46.100000  47.0  Sunday    Senior  \n",
       "384489    Male     1992.0 -48.950000  30.0  Sunday     Adult  \n",
       "384490     NaN        NaN -47.366667   NaN  Sunday       NaN  \n",
       "384491     NaN        NaN -48.250000   NaN  Sunday       NaN  \n",
       "384492     NaN        NaN -48.283333   NaN  Sunday       NaN  \n",
       "384493     NaN        NaN -47.266667   NaN  Sunday       NaN  \n",
       "384495    Male     1999.0 -53.683333  23.0  Sunday     Adult  \n",
       "384496    Male     1992.0 -56.366667  30.0  Sunday     Adult  \n",
       "384497    Male     1994.0 -49.833333  28.0  Sunday     Adult  "
      ]
     },
     "execution_count": 25,
     "metadata": {},
     "output_type": "execute_result"
    }
   ],
   "source": [
    "data_Q4.query('duration < 1')"
   ]
  },
  {
   "cell_type": "markdown",
   "metadata": {},
   "source": [
    "we see multiple entries where end date is earlier than start date, in our case since we relatively big dataset we will drop them "
   ]
  },
  {
   "cell_type": "code",
   "execution_count": 26,
   "metadata": {},
   "outputs": [
    {
     "name": "stdout",
     "output_type": "stream",
     "text": [
      "duration is consistent\n"
     ]
    }
   ],
   "source": [
    "data_Q4.drop(data_Q4.query('duration < 1').index,axis = 0, inplace = True)\n",
    "for df in combined_data:\n",
    "    assert min(df.duration) > 1\n",
    "print('duration is consistent')"
   ]
  },
  {
   "cell_type": "code",
   "execution_count": 27,
   "metadata": {},
   "outputs": [
    {
     "name": "stdout",
     "output_type": "stream",
     "text": [
      "user type is consistent\n"
     ]
    }
   ],
   "source": [
    "#user_type and gennder attributes \n",
    "for df in combined_data:\n",
    "    assert len(df.user_type.unique()) ==2\n",
    "    # =3 because there is missing values which will be impelmented as nan\n",
    "    assert len(df.gender.unique()) ==3\n",
    "print('user type is consistent')"
   ]
  },
  {
   "cell_type": "code",
   "execution_count": 28,
   "metadata": {},
   "outputs": [
    {
     "ename": "AssertionError",
     "evalue": "",
     "output_type": "error",
     "traceback": [
      "\u001b[1;31m---------------------------------------------------------------------------\u001b[0m",
      "\u001b[1;31mAssertionError\u001b[0m                            Traceback (most recent call last)",
      "Input \u001b[1;32mIn [28]\u001b[0m, in \u001b[0;36m<cell line: 2>\u001b[1;34m()\u001b[0m\n\u001b[0;32m      2\u001b[0m \u001b[38;5;28;01mfor\u001b[39;00m df \u001b[38;5;129;01min\u001b[39;00m combined_data:\n\u001b[0;32m      3\u001b[0m     \u001b[38;5;28;01massert\u001b[39;00m \u001b[38;5;28mmin\u001b[39m(df\u001b[38;5;241m.\u001b[39mAge) \u001b[38;5;241m>\u001b[39m\u001b[38;5;241m2\u001b[39m\n\u001b[1;32m----> 4\u001b[0m     \u001b[38;5;28;01massert\u001b[39;00m \u001b[38;5;28mmax\u001b[39m(df\u001b[38;5;241m.\u001b[39mAge) \u001b[38;5;241m<\u001b[39m\u001b[38;5;241m101\u001b[39m\n",
      "\u001b[1;31mAssertionError\u001b[0m: "
     ]
    }
   ],
   "source": [
    "#we will check Age for less than 2 years and above 100 years\n",
    "for df in combined_data:\n",
    "    assert min(df.Age) >2\n",
    "    assert max(df.Age) <101"
   ]
  },
  {
   "cell_type": "markdown",
   "metadata": {},
   "source": [
    "we have ages above 100 years old "
   ]
  },
  {
   "cell_type": "code",
   "execution_count": 29,
   "metadata": {},
   "outputs": [
    {
     "data": {
      "text/plain": [
       "1031"
      ]
     },
     "execution_count": 29,
     "metadata": {},
     "output_type": "execute_result"
    }
   ],
   "source": [
    "Age_above_100=0\n",
    "for df in combined_data:\n",
    "    Age_above_100 += df.query('Age >100').shape[0]\n",
    "Age_above_100    "
   ]
  },
  {
   "cell_type": "markdown",
   "metadata": {},
   "source": [
    "we can see that there is about 1000 inconsitent data entries in our data, let's drop them "
   ]
  },
  {
   "cell_type": "code",
   "execution_count": 30,
   "metadata": {},
   "outputs": [
    {
     "name": "stdout",
     "output_type": "stream",
     "text": [
      "Age is clean\n"
     ]
    }
   ],
   "source": [
    "for df in combined_data:\n",
    "    df.drop(df.query('Age >100').index,axis = 0, inplace = True)\n",
    "    assert min(df.Age) >2\n",
    "    assert max(df.Age) <101\n",
    "print('Age is clean')    "
   ]
  },
  {
   "cell_type": "markdown",
   "metadata": {},
   "source": [
    "Finally now our data is both consistent and clean, now we are ready to proceed to the next phase of our analysis and our most exciting one "
   ]
  },
  {
   "cell_type": "markdown",
   "metadata": {},
   "source": [
    "<a id='analyze'></a>\n",
    "\n",
    "## Analyze Phase\n",
    "\n",
    "Following the steps of the data analysis process: Ask, Prepare , Process , **Analyze**, Share, and Act.\n",
    "\n",
    "Since our data is now complete, valid, accurate and consistent, we are now ready for the most exciting phase in our analysis, in which we visualize our data trends and reach an answer to our business problem, Also the main process of the analyze phase is Exploratory Data Analysis \"EDA\" so let's begin\n",
    "\n",
    "### Exploratory Data Analysis\n",
    "\n",
    "Refresher on the business question \"How do annual members and casual riders use Cyclistic bikes differently?\"\n",
    "\n",
    "now we need to view the attributes that help us reach a conclusion about the answer to this question "
   ]
  },
  {
   "cell_type": "code",
   "execution_count": 111,
   "metadata": {},
   "outputs": [],
   "source": [
    "import matplotlib.pyplot as plt\n",
    "import seaborn as sns\n"
   ]
  },
  {
   "cell_type": "code",
   "execution_count": 75,
   "metadata": {},
   "outputs": [],
   "source": [
    "# creating a function that we pass the data to it and it creates plots over our four quarters \n",
    "# we pass the dataframes, attribute that we want to see over the four seasons and\n",
    "# our most important attribute that we want to see it it's behavior related to other attributes\n",
    "\n",
    "def plot_relations(data,attribute_to_compare,compare_about):\n",
    "    rows= len(data)//2\n",
    "    cols=2\n",
    "    dataset_name=['1st quarter','2nd quarter','3rd quarter','4th quarter']\n",
    "    #setting up plot grid and colors\n",
    "    fig, axes = plt.subplots(nrows=rows, ncols=cols, figsize=(10,15))\n",
    "    color =['orangered']\n",
    "    #adjusting plot margins\n",
    "    plt.subplots_adjust(left=0.1,bottom=0.1, right=0.9, top=0.9, wspace=0.4, hspace=0.4) \n",
    "    #loop to plot graphs in a grid\n",
    "    #plot over the rows \n",
    "    data_no = 0\n",
    "    for i in range(rows) :\n",
    "        #plot over the columns\n",
    "        for j in range(cols):\n",
    "            sns.countplot(data = data[data_no],x=attribute_to_compare,hue = compare_about,\n",
    "                              ax =axes[i,j])\n",
    "            \n",
    "            axes[i,j].title.set_text('%s data'%(dataset_name[data_no]))\n",
    "            #axes[i,j].set_ylabel('')\n",
    "            #axes[i,j].set_xlabel(''%())\n",
    "            axes[i-1,j-1].tick_params(axis='x', rotation=45)\n",
    "            data_no = data_no + 1\n",
    "    \n"
   ]
  },
  {
   "cell_type": "code",
   "execution_count": 64,
   "metadata": {},
   "outputs": [
    {
     "data": {
      "text/plain": [
       "<AxesSubplot:xlabel='age_group', ylabel='count'>"
      ]
     },
     "execution_count": 64,
     "metadata": {},
     "output_type": "execute_result"
    },
    {
     "data": {
      "image/png": "[encoded data removed]",
      "text/plain": [
       "<Figure size 432x288 with 1 Axes>"
      ]
     },
     "metadata": {
      "needs_background": "light"
     },
     "output_type": "display_data"
    }
   ],
   "source": [
    "#first lets see which age group uses the bikes the most \n",
    "sns.countplot(data=data_Q1,x=data_Q1.age_group)"
   ]
  },
  {
   "cell_type": "markdown",
   "metadata": {},
   "source": [
    "we see that adults are more than 50% of our users "
   ]
  },
  {
   "cell_type": "code",
   "execution_count": 65,
   "metadata": {},
   "outputs": [
    {
     "data": {
      "text/plain": [
       "<AxesSubplot:xlabel='age_group', ylabel='count'>"
      ]
     },
     "execution_count": 65,
     "metadata": {},
     "output_type": "execute_result"
    },
    {
     "data": {
      "image/png": "[encoded data removed]",
      "text/plain": [
       "<Figure size 432x288 with 1 Axes>"
      ]
     },
     "metadata": {
      "needs_background": "light"
     },
     "output_type": "display_data"
    }
   ],
   "source": [
    "#how many of age_groups are subscribers !?\n",
    "sns.countplot(x=data_Q1.age_group,hue = data_Q1.user_type)"
   ]
  },
  {
   "cell_type": "markdown",
   "metadata": {},
   "source": [
    "now we can see that most of our users are subscribers, but htis is only the first quarter of the year, so in other words we have low customers in the beginning of the year "
   ]
  },
  {
   "cell_type": "code",
   "execution_count": 110,
   "metadata": {},
   "outputs": [
    {
     "data": {
      "text/plain": [
       "<BarContainer object of 2 artists>"
      ]
     },
     "execution_count": 110,
     "metadata": {},
     "output_type": "execute_result"
    },
    {
     "data": {
      "image/png": "[encoded data removed]",
      "text/plain": [
       "<Figure size 432x288 with 1 Axes>"
      ]
     },
     "metadata": {
      "needs_background": "light"
     },
     "output_type": "display_data"
    }
   ],
   "source": [
    "#what is the mean age for subscribers and customers ?\n",
    "age_mean = [round(data_Q1[data_Q1.user_type == 'Subscriber']['Age'].mean()),round(data_Q1[data_Q1.user_type == 'Customer']['Age'].mean())]\n",
    "plt.bar(['Subscriber','Customer'],age_mean,color='maroon')"
   ]
  },
  {
   "cell_type": "markdown",
   "metadata": {},
   "source": [
    "average age for subscribers 40 years while for customers 33 years so our subscribers are usually older than our customers"
   ]
  },
  {
   "cell_type": "code",
   "execution_count": 106,
   "metadata": {},
   "outputs": [
    {
     "data": {
      "text/plain": [
       "<BarContainer object of 2 artists>"
      ]
     },
     "execution_count": 106,
     "metadata": {},
     "output_type": "execute_result"
    },
    {
     "data": {
      "image/png": "[encoded data removed]",
      "text/plain": [
       "<Figure size 432x288 with 1 Axes>"
      ]
     },
     "metadata": {
      "needs_background": "light"
     },
     "output_type": "display_data"
    }
   ],
   "source": [
    "#how long do subscribers ride comparing to customers ?\n",
    "duration_mean = [round(data_Q1[data_Q1.user_type == 'Subscriber']['duration'].mean()),\n",
    "            round(data_Q1[data_Q1.user_type == 'Customer']['duration'].mean())]\n",
    "plt.bar(['Subscriber','Customer'],duration_mean,color='Aqua')"
   ]
  },
  {
   "cell_type": "markdown",
   "metadata": {},
   "source": [
    "Surperisingly customers average trips are **435%** longer than subscribers this shows a point we can use in our marketing startegy "
   ]
  },
  {
   "cell_type": "code",
   "execution_count": 68,
   "metadata": {},
   "outputs": [
    {
     "name": "stderr",
     "output_type": "stream",
     "text": [
      "C:\\Users\\fahda\\anaconda3\\lib\\site-packages\\seaborn\\_decorators.py:36: FutureWarning: Pass the following variable as a keyword arg: x. From version 0.12, the only valid positional argument will be `data`, and passing other arguments without an explicit keyword will result in an error or misinterpretation.\n",
      "  warnings.warn(\n"
     ]
    },
    {
     "data": {
      "text/plain": [
       "(array([0, 1, 2, 3, 4, 5, 6]),\n",
       " [Text(0, 0, 'Tuesday'),\n",
       "  Text(1, 0, 'Wednesday'),\n",
       "  Text(2, 0, 'Thursday'),\n",
       "  Text(3, 0, 'Friday'),\n",
       "  Text(4, 0, 'Saturday'),\n",
       "  Text(5, 0, 'Sunday'),\n",
       "  Text(6, 0, 'Monday')])"
      ]
     },
     "execution_count": 68,
     "metadata": {},
     "output_type": "execute_result"
    },
    {
     "data": {
      "image/png": "[encoded data removed]",
      "text/plain": [
       "<Figure size 432x288 with 1 Axes>"
      ]
     },
     "metadata": {
      "needs_background": "light"
     },
     "output_type": "display_data"
    }
   ],
   "source": [
    "#last of the examination for one quadrant we see which day each user type prefers\n",
    "sns.countplot(data_Q1.weekday, hue=data_Q1.user_type)\n",
    "plt.xticks(rotation=45)"
   ]
  },
  {
   "cell_type": "markdown",
   "metadata": {},
   "source": [
    "So we can see that Subscribers ride their bikes during the week but the tend to ignore it in the weekend days and customers are the complete oposite of that so maybe our subscribers take their bikes to work while our customers tend to enjoy it in the weekends"
   ]
  },
  {
   "cell_type": "markdown",
   "metadata": {},
   "source": [
    "Now we will do the past 4 plots in 4 quarters to gain more insights "
   ]
  },
  {
   "cell_type": "code",
   "execution_count": 76,
   "metadata": {},
   "outputs": [
    {
     "data": {
      "image/png": "[encoded data removed]",
      "text/plain": [
       "<Figure size 720x1080 with 4 Axes>"
      ]
     },
     "metadata": {
      "needs_background": "light"
     },
     "output_type": "display_data"
    }
   ],
   "source": [
    "plot_relations(combined_data,'age_group','user_type')"
   ]
  },
  {
   "cell_type": "markdown",
   "metadata": {},
   "source": [
    "we can see from plots over the 4 seasons that our riders are mostly adults whether it is a subscriber or a customer "
   ]
  },
  {
   "cell_type": "code",
   "execution_count": 77,
   "metadata": {},
   "outputs": [
    {
     "data": {
      "image/png": "[encoded data removed]",
      "text/plain": [
       "<Figure size 720x1080 with 4 Axes>"
      ]
     },
     "metadata": {
      "needs_background": "light"
     },
     "output_type": "display_data"
    }
   ],
   "source": [
    "plot_relations(combined_data,'weekday','user_type')\n"
   ]
  },
  {
   "cell_type": "markdown",
   "metadata": {},
   "source": [
    "This plot on the other hand is really usefull it tells us that there is a spike in customers during the weekends and during the warm weather, we can see clearly the effect of the summer on our customers compared to the winter, this is crucial in chossing the timing of your marketing campain"
   ]
  },
  {
   "cell_type": "code",
   "execution_count": 105,
   "metadata": {},
   "outputs": [
    {
     "name": "stdout",
     "output_type": "stream",
     "text": [
      "winter customer riders in weekends are 15 percent from total customers while summer customer riders are at 48 percent\n"
     ]
    }
   ],
   "source": [
    "#more statistaclly answer on the increase in the summer \n",
    "\n",
    "#winter ratio\n",
    "total_count,u,user_type,user_type_count=data_Q1.loc[(data_Q1.weekday == 'Saturday')|(data_Q1.weekday == 'Sunday')]['user_type'].describe()\n",
    "#ratio of customers to Subscribers in weekends of the winter \n",
    "winter_ratio=round(((total_count-user_type_count)/total_count )*100)\n",
    "\n",
    "#summer ratio\n",
    "total_count,u,user_type,user_type_count=data_Q3.loc[(data_Q3.weekday == 'Saturday')|(data_Q3.weekday == 'Sunday')]['user_type'].describe()\n",
    "#ratio of customers to Subscribers in weekends of the winter \n",
    "summer_ratio=round(((total_count-user_type_count)/total_count )*100)\n",
    "\n",
    "print('winter customer riders in weekends are %d percent from total customers while summer customer riders are at %d percent'\n",
    "      %(winter_ratio,summer_ratio))"
   ]
  },
  {
   "cell_type": "markdown",
   "metadata": {},
   "source": [
    "we see that increase in weekends specially in the summer more clearly now, so in this phase of analysis we have reached an idea to seperate subscribers from customers and to identify the behavior of each of them, for example how they are diffrent in age, average ride length and when do they ride their bikes in the next phase we will see our conclusion presented clearly with our recommendations "
   ]
  },
  {
   "cell_type": "markdown",
   "metadata": {},
   "source": [
    "<a id='share'></a>\n",
    "\n",
    "## Share Phase\n",
    "\n",
    "Following the steps of the data analysis process: Ask, Prepare , Process , Analyze, **Share**, and Act.\n",
    "\n",
    "Now we present our finding to our skateholders, we choose our data visualization and combine them with our statistical calculations, we inform them with our recommendations based on our findings, this is where  we normally use tableau, power bi or powerpoint \n",
    "\n",
    "to keep in mind our business question \"How do annual members and casual riders use Cyclistic bikes differently?\""
   ]
  },
  {
   "cell_type": "markdown",
   "metadata": {},
   "source": [
    "#### Q1 - How do annual members and casual riders use Cyclistic bikes differently?"
   ]
  },
  {
   "cell_type": "code",
   "execution_count": 113,
   "metadata": {},
   "outputs": [
    {
     "data": {
      "image/png": "[encoded data removed]",
      "text/plain": [
       "<Figure size 720x1080 with 4 Axes>"
      ]
     },
     "metadata": {
      "needs_background": "light"
     },
     "output_type": "display_data"
    }
   ],
   "source": [
    "plot_relations(combined_data,'weekday','user_type')"
   ]
  },
  {
   "cell_type": "markdown",
   "metadata": {},
   "source": [
    "we can see that two important insights here \n",
    "\n",
    "> **Subscribers** tend to ride bikes through out the week and inore it in the weekends \n",
    "\n",
    "> **Customers** tend to ride bikes in the weekends not through the week \n",
    "\n",
    "So we know that subscribers normally uses the bike for daily tasks like comuting to work for example, but customers on the other hand uses the bikes for fun in the weekends rather than daily tasks \n",
    "\n",
    "> **Customers** represent nearly 50% of users on weekends in the summer \n",
    "\n",
    "we see that the number of customers gradually increase as we move into hot weather and reaches nearly 50% of users on weekends \n",
    "\n",
    "Now recomendation based on this would be to start the marketing campain in the summer and to have discounts in the weekends as these days have the most number of customers "
   ]
  },
  {
   "cell_type": "code",
   "execution_count": 114,
   "metadata": {},
   "outputs": [
    {
     "data": {
      "text/plain": [
       "<BarContainer object of 2 artists>"
      ]
     },
     "execution_count": 114,
     "metadata": {},
     "output_type": "execute_result"
    },
    {
     "data": {
      "image/png": "[encoded data removed]",
      "text/plain": [
       "<Figure size 432x288 with 1 Axes>"
      ]
     },
     "metadata": {
      "needs_background": "light"
     },
     "output_type": "display_data"
    }
   ],
   "source": [
    "#how long do subscribers ride comparing to customers ?\n",
    "duration_mean = [round(data_Q1[data_Q1.user_type == 'Subscriber']['duration'].mean()),\n",
    "            round(data_Q1[data_Q1.user_type == 'Customer']['duration'].mean())]\n",
    "plt.bar(['Subscriber','Customer'],duration_mean,color='Aqua')"
   ]
  },
  {
   "cell_type": "markdown",
   "metadata": {},
   "source": [
    "Surperisingly **customers** average trips are **435%** longer than **subscribers** this information will help us shape our discount behaviour for example we can grant a discount coupon if a customer rode the bike over 40 minutes on upgrading to be subscriber that expiers right after the weekend so we garantue that he will most probably active then "
   ]
  },
  {
   "cell_type": "markdown",
   "metadata": {},
   "source": [
    "#### Q2 Which age group has the most annual members ?"
   ]
  },
  {
   "cell_type": "code",
   "execution_count": 115,
   "metadata": {},
   "outputs": [
    {
     "data": {
      "image/png": "[encoded data removed]",
      "text/plain": [
       "<Figure size 720x1080 with 4 Axes>"
      ]
     },
     "metadata": {
      "needs_background": "light"
     },
     "output_type": "display_data"
    }
   ],
   "source": [
    "plot_relations(combined_data,'age_group','user_type')"
   ]
  },
  {
   "cell_type": "markdown",
   "metadata": {},
   "source": [
    "we can see that adults hold the majority for our users although it is worth mentioning that the average age for our customers is less than that of our Subscribers, this will help us in the design of the ads and which age group to target"
   ]
  },
  {
   "cell_type": "markdown",
   "metadata": {},
   "source": [
    "#### Q3 What do annaual users gain from the membership that casual users do not?"
   ]
  },
  {
   "cell_type": "markdown",
   "metadata": {},
   "source": [
    "Unfortunately we do not have data to answer that question so we have our limitations even with this large dataset, we are looking for the pricing and how it is diffrent to the customers from the subscriber, how much a subscriber save during a ride, this questions will be a great help to us but since they are missing now would be the time where we reach to our stakeholders for more info and lunch a survay for customers to ask them for opinions about the pricing plans "
   ]
  },
  {
   "cell_type": "markdown",
   "metadata": {},
   "source": [
    "### Recommendations "
   ]
  },
  {
   "cell_type": "markdown",
   "metadata": {},
   "source": [
    "<ul>\n",
    "<li>Start the marketing campain in the summer </li>\n",
    "<li>Discounts in the weekends as these days have the most number of customers</li>\n",
    "<li>Have discount coupons when a customer passes a certain duration</li>\n",
    "<li>Target adults groups </li>\n",
    "</ul>"
   ]
  }
 ],
 "metadata": {
  "kernelspec": {
   "display_name": "Python 3 (ipykernel)",
   "language": "python",
   "name": "python3"
  },
  "language_info": {
   "codemirror_mode": {
    "name": "ipython",
    "version": 3
   },
   "file_extension": ".py",
   "mimetype": "text/x-python",
   "name": "python",
   "nbconvert_exporter": "python",
   "pygments_lexer": "ipython3",
   "version": "3.9.7"
  }
 },
 "nbformat": 4,
 "nbformat_minor": 2
}
